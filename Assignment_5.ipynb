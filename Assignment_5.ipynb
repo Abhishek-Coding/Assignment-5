{
 "cells": [
  {
   "cell_type": "code",
   "execution_count": 51,
   "metadata": {},
   "outputs": [
    {
     "name": "stdout",
     "output_type": "stream",
     "text": [
      "Sum of Each item is [ 6 ] [ 12 ] [ 18 ] [ 156 ] \n",
      "Total sum is 156\n"
     ]
    }
   ],
   "source": [
    "# problem 1\n",
    "Array_2D=[[1,2,3],[4,2,6], [5,6,7], [67,89]]\n",
    "sum=0\n",
    "print(\"Sum of Each item is\",end=\" \")\n",
    "for x in Array_2D:\n",
    "    for y in x:\n",
    "        sum+=y\n",
    "    print(\"[\",sum,\"]\",end=\" \")\n",
    "    t_sum=sum\n",
    "    sum=0\n",
    "print()\n",
    "print(\"Total sum is\",t_sum)"
   ]
  },
  {
   "cell_type": "code",
   "execution_count": 70,
   "metadata": {},
   "outputs": [
    {
     "name": "stdout",
     "output_type": "stream",
     "text": [
      "Sum of Each item is [ 6 ] [ 12 ] [ 18 ] [ 156 ] \n",
      "Total sum is 156\n",
      "Product of sums: 202176\n",
      "Sum of products: 6227\n",
      "Difference is: 195949\n"
     ]
    }
   ],
   "source": [
    "# problem 2\n",
    "Array_2D=[[1,2,3],[4,2,6], [5,6,7], [67,89]]\n",
    "sum=0\n",
    "product_sums=1\n",
    "prs2=1\n",
    "sums_product=0\n",
    "print(\"Sum of Each item is\",end=\" \")\n",
    "for x in Array_2D:\n",
    "    for y in x:\n",
    "        sum+=y\n",
    "        prs2=prs2*y\n",
    "    sums_product=sums_product+prs2\n",
    "    print(\"[\",sum,\"]\",end=\" \")\n",
    "    product_sums=product_sums*sum\n",
    "    t_sum=sum\n",
    "    prs2=1\n",
    "    sum=0\n",
    "print()\n",
    "print(\"Total sum is\",t_sum)\n",
    "print(\"Product of sums:\",product_sums)\n",
    "print(\"Sum of products:\",sums_product)\n",
    "print(\"Difference is:\",product_sums-sums_product)"
   ]
  },
  {
   "cell_type": "code",
   "execution_count": 41,
   "metadata": {},
   "outputs": [
    {
     "name": "stdout",
     "output_type": "stream",
     "text": [
      "[[1], [1, 2], [1, 2, 3], [1, 2, 3, 4], [1, 2, 3, 4, 5], [1, 2, 3, 4, 5, 6]]\n"
     ]
    }
   ],
   "source": [
    "# problem 3\n",
    "# Sorry Sir, I was getting [[1],[2,2],[3,3,3]..etc so i did this way ]\n",
    "A_list=[]\n",
    "count=3\n",
    "k=0\n",
    "for x in range(1,count+1):\n",
    "    for y in range(1,x+1):\n",
    "        k+=1\n",
    "        if k==1:\n",
    "            A_list.append([i])\n",
    "        elif k==2:\n",
    "            A_list.append([i,i*2])\n",
    "        elif k==3:\n",
    "            A_list.append([i,i*2,i*3])\n",
    "        elif k==4:\n",
    "            A_list.append([i,i*2,i*3,i*4])\n",
    "        elif k==5:\n",
    "            A_list.append([i,i*2,i*3,i*4,i*5])\n",
    "        elif k==6:\n",
    "            A_list.append([i,i*2,i*3,i*4,i*5,i*6])\n",
    "print(A_list)\n",
    "# SIR, PLEASE TELL THE SOLUTION OF THIS QUE. IN THE NEXT CLASS."
   ]
  }
 ],
 "metadata": {
  "kernelspec": {
   "display_name": "Python 3",
   "language": "python",
   "name": "python3"
  },
  "language_info": {
   "codemirror_mode": {
    "name": "ipython",
    "version": 3
   },
   "file_extension": ".py",
   "mimetype": "text/x-python",
   "name": "python",
   "nbconvert_exporter": "python",
   "pygments_lexer": "ipython3",
   "version": "3.8.5"
  }
 },
 "nbformat": 4,
 "nbformat_minor": 4
}
